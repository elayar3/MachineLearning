{
  "nbformat": 4,
  "nbformat_minor": 0,
  "metadata": {
    "colab": {
      "provenance": [],
      "authorship_tag": "ABX9TyOP936EUPPqTaLsmAX02aZg",
      "include_colab_link": true
    },
    "kernelspec": {
      "name": "python3",
      "display_name": "Python 3"
    },
    "language_info": {
      "name": "python"
    }
  },
  "cells": [
    {
      "cell_type": "markdown",
      "metadata": {
        "id": "view-in-github",
        "colab_type": "text"
      },
      "source": [
        "<a href=\"https://colab.research.google.com/github/elayar3/MachineLearning/blob/main/PandasSeries.ipynb\" target=\"_parent\"><img src=\"https://colab.research.google.com/assets/colab-badge.svg\" alt=\"Open In Colab\"/></a>"
      ]
    },
    {
      "cell_type": "code",
      "execution_count": null,
      "metadata": {
        "id": "Wqc8xO12Y99T"
      },
      "outputs": [],
      "source": [
        "import pandas as pd\n",
        "import numpy as np"
      ]
    },
    {
      "cell_type": "code",
      "source": [
        "arr=np.array([1,2,3,4,5])\n",
        "s=pd.Series(arr)\n",
        "print(s)"
      ],
      "metadata": {
        "colab": {
          "base_uri": "https://localhost:8080/"
        },
        "id": "2qnXfRWpZFUH",
        "outputId": "6d065b69-e6ed-41ba-ceac-b9921e3f1d30"
      },
      "execution_count": null,
      "outputs": [
        {
          "output_type": "stream",
          "name": "stdout",
          "text": [
            "0    1\n",
            "1    2\n",
            "2    3\n",
            "3    4\n",
            "4    5\n",
            "dtype: int64\n"
          ]
        }
      ]
    },
    {
      "cell_type": "code",
      "source": [
        "s1=pd.Series([1,2,3,4,5])\n",
        "s2=pd.Series([11,12,13,14,15])\n",
        "s3=pd.Series([21,22,23,24])\n",
        "print(s1+s2)\n",
        "print(s1+s3)\n",
        "print(s2.add(s3,fill_value=1))"
      ],
      "metadata": {
        "colab": {
          "base_uri": "https://localhost:8080/"
        },
        "id": "Wnq2_gWKb12u",
        "outputId": "00d606fb-2487-4efc-cf3b-c55535466b60"
      },
      "execution_count": null,
      "outputs": [
        {
          "output_type": "stream",
          "name": "stdout",
          "text": [
            "0    12\n",
            "1    14\n",
            "2    16\n",
            "3    18\n",
            "4    20\n",
            "dtype: int64\n",
            "0    22.0\n",
            "1    24.0\n",
            "2    26.0\n",
            "3    28.0\n",
            "4     NaN\n",
            "dtype: float64\n",
            "0    32.0\n",
            "1    34.0\n",
            "2    36.0\n",
            "3    38.0\n",
            "4    16.0\n",
            "dtype: float64\n"
          ]
        }
      ]
    },
    {
      "cell_type": "code",
      "source": [
        "print(s1.loc[:2])\n",
        "print(s2.loc[2:])\n",
        "print(s1.iloc[:2])"
      ],
      "metadata": {
        "colab": {
          "base_uri": "https://localhost:8080/"
        },
        "id": "u0Jeq0clet1B",
        "outputId": "231b6cf8-e49d-45f6-a081-d422a500c5cd"
      },
      "execution_count": null,
      "outputs": [
        {
          "output_type": "stream",
          "name": "stdout",
          "text": [
            "0    1\n",
            "1    2\n",
            "2    3\n",
            "dtype: int64\n",
            "2    13\n",
            "3    14\n",
            "4    15\n",
            "dtype: int64\n",
            "0    1\n",
            "1    2\n",
            "dtype: int64\n"
          ]
        }
      ]
    },
    {
      "cell_type": "code",
      "source": [
        "dat=[{\"Name\":\"Sachin\"},{\"Name\":\"Tendulkar\"}]\n",
        "df=pd.DataFrame(dat)\n",
        "print(df)"
      ],
      "metadata": {
        "colab": {
          "base_uri": "https://localhost:8080/"
        },
        "id": "CcpOkq6vkj-9",
        "outputId": "356dcf4e-4429-4fe0-a808-7f1d9aa45387"
      },
      "execution_count": null,
      "outputs": [
        {
          "output_type": "stream",
          "name": "stdout",
          "text": [
            "        Name\n",
            "0     Sachin\n",
            "1  Tendulkar\n"
          ]
        }
      ]
    }
  ]
}